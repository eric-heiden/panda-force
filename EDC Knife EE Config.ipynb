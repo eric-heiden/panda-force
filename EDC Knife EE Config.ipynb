{
 "cells": [
  {
   "cell_type": "code",
   "execution_count": 2,
   "id": "a9d3004f",
   "metadata": {},
   "outputs": [],
   "source": [
    "import json\n",
    "import matplotlib.pyplot as plt\n",
    "import numpy as np\n",
    "import math\n",
    "from IPython.display import set_matplotlib_formats\n",
    "set_matplotlib_formats('retina')"
   ]
  },
  {
   "cell_type": "code",
   "execution_count": 3,
   "id": "51296f91",
   "metadata": {},
   "outputs": [],
   "source": [
    "# measured mass\n",
    "handle_mass = 27.24 * 1e-3\n",
    "knife_mass = 48.14 * 1e-3 - handle_mass\n",
    "# mass computed by Fusion 360\n",
    "handle_mass_fusion = 57.597 * 1e-3\n",
    "knife_mass_fusion = 25.494 * 1e-3"
   ]
  },
  {
   "cell_type": "code",
   "execution_count": 4,
   "id": "f882b12c",
   "metadata": {},
   "outputs": [],
   "source": [
    "fixture_mass = handle_mass + knife_mass"
   ]
  },
  {
   "cell_type": "code",
   "execution_count": 5,
   "id": "ba1a623e",
   "metadata": {},
   "outputs": [],
   "source": [
    "handle_com = np.array([-6.741, -0.032, 8.508]) * 1e-3\n",
    "knife_com = np.array([42.64, 0.652, 16.258]) * 1e-3"
   ]
  },
  {
   "cell_type": "code",
   "execution_count": 6,
   "id": "39571fc6",
   "metadata": {},
   "outputs": [],
   "source": [
    "# inertia at origin\n",
    "\n",
    "handle_inertia = np.array([\n",
    "    1.690E+04, -20.85, 5146.537,\n",
    "    -20.85, 4.790E+04, 30.14,\n",
    "    5146.537, 30.14, 5.156E+04\n",
    "]) * 1e-9 * handle_mass / handle_mass_fusion\n",
    "\n",
    "knife_inertia = np.array([\n",
    "    7015.042, 69.928, -1.788E+04,\n",
    "    69.928, 1.191E+05, -266.047,\n",
    "    -1.788E+04, -266.047, 1.121E+05\n",
    "]) * 1e-9 * handle_mass / handle_mass_fusion"
   ]
  },
  {
   "cell_type": "code",
   "execution_count": 11,
   "id": "cf35e578",
   "metadata": {},
   "outputs": [
    {
     "data": {
      "text/plain": [
       "array([ 7.99270795e-06, -9.86082608e-09,  2.43400989e-06, -9.86082608e-09,\n",
       "        2.26538882e-05,  1.42544508e-08,  2.43400989e-06,  1.42544508e-08,\n",
       "        2.43848534e-05])"
      ]
     },
     "execution_count": 11,
     "metadata": {},
     "output_type": "execute_result"
    }
   ],
   "source": [
    "handle_inertia"
   ]
  },
  {
   "cell_type": "code",
   "execution_count": 12,
   "id": "4ede992f",
   "metadata": {},
   "outputs": [],
   "source": [
    "fixture_com = handle_mass * handle_com + knife_mass * knife_com\n",
    "fixture_com /= fixture_mass"
   ]
  },
  {
   "cell_type": "code",
   "execution_count": 13,
   "id": "864c7a37",
   "metadata": {},
   "outputs": [
    {
     "data": {
      "text/plain": [
       "array([0.01469778, 0.00026496, 0.01187267])"
      ]
     },
     "execution_count": 13,
     "metadata": {},
     "output_type": "execute_result"
    }
   ],
   "source": [
    "fixture_com"
   ]
  },
  {
   "cell_type": "code",
   "execution_count": 14,
   "id": "ea726ee7",
   "metadata": {},
   "outputs": [],
   "source": [
    "fixture_inertia = handle_inertia + knife_inertia"
   ]
  },
  {
   "cell_type": "code",
   "execution_count": 15,
   "id": "fe57a8fc",
   "metadata": {},
   "outputs": [],
   "source": [
    "# blade center\n",
    "bd = 0.5 * (np.array([99.10, 0.10, 21.141]) + np.array([44.898, 0.10, 21.141])) * 1e-3\n",
    "fixture_tf = np.array([\n",
    "        0.7071,    -0.7071,     0,      0,\n",
    "        0.7071,     0.7071,     0,      0,\n",
    "        0,          0,          1,      0,\n",
    "    bd[0],      bd[1],      bd[2],      1\n",
    "])"
   ]
  },
  {
   "cell_type": "code",
   "execution_count": 17,
   "id": "0c5cd1dc",
   "metadata": {},
   "outputs": [],
   "source": [
    "json.dump({\n",
    "    \"mass\": fixture_mass,\n",
    "    \"centerOfMass\": fixture_com.tolist(),\n",
    "    \"transformation\": fixture_tf.tolist(),\n",
    "    \"inertia\": fixture_inertia.tolist(),\n",
    "    \"collisionModel\": {\n",
    "        \"pointA\": [\n",
    "            0,\n",
    "            0.005,\n",
    "            0,\n",
    "            0,\n",
    "            0,\n",
    "            0,\n",
    "            0,\n",
    "            0,\n",
    "            0\n",
    "        ],\n",
    "        \"pointB\": [\n",
    "            0,\n",
    "            -0.005,\n",
    "            0,\n",
    "            0,\n",
    "            0,\n",
    "            0,\n",
    "            0,\n",
    "            0,\n",
    "            0\n",
    "        ],\n",
    "        \"radius\": [\n",
    "            0.005,\n",
    "            0,\n",
    "            0\n",
    "        ]\n",
    "    }\n",
    "}, open(\"edc-knife-endeffector-config.json\", \"w\"), indent=4)"
   ]
  },
  {
   "cell_type": "code",
   "execution_count": null,
   "id": "172aa67f",
   "metadata": {},
   "outputs": [],
   "source": []
  }
 ],
 "metadata": {
  "kernelspec": {
   "display_name": "Python 3",
   "language": "python",
   "name": "python3"
  },
  "language_info": {
   "codemirror_mode": {
    "name": "ipython",
    "version": 3
   },
   "file_extension": ".py",
   "mimetype": "text/x-python",
   "name": "python",
   "nbconvert_exporter": "python",
   "pygments_lexer": "ipython3",
   "version": "3.6.9"
  }
 },
 "nbformat": 4,
 "nbformat_minor": 5
}
