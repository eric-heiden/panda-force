{
 "cells": [
  {
   "cell_type": "code",
   "execution_count": 15,
   "id": "3d20102e",
   "metadata": {},
   "outputs": [],
   "source": [
    "import json\n",
    "import matplotlib.pyplot as plt\n",
    "import numpy as np\n",
    "import math\n",
    "from IPython.display import set_matplotlib_formats\n",
    "set_matplotlib_formats('retina')"
   ]
  },
  {
   "cell_type": "code",
   "execution_count": 16,
   "id": "7fae3493",
   "metadata": {},
   "outputs": [],
   "source": [
    "# measured mass\n",
    "handle_mass = 31.74 * 1e-3\n",
    "knife_mass = 71.45 * 1e-3\n",
    "# mass computed by Fusion 360\n",
    "handle_mass_fusion = 69.605 * 1e-3\n",
    "knife_mass_fusion = 255.096 * 1e-3"
   ]
  },
  {
   "cell_type": "code",
   "execution_count": 17,
   "id": "1c094fd2",
   "metadata": {},
   "outputs": [],
   "source": [
    "fixture_mass = handle_mass + knife_mass"
   ]
  },
  {
   "cell_type": "code",
   "execution_count": 18,
   "id": "4896e05f",
   "metadata": {},
   "outputs": [],
   "source": [
    "handle_com = np.array([-7.182, -0.009, 15.019]) * 1e-3\n",
    "knife_com = np.array([132.621, -0.087, 33.019]) * 1e-3"
   ]
  },
  {
   "cell_type": "code",
   "execution_count": 30,
   "id": "4759dba6",
   "metadata": {},
   "outputs": [],
   "source": [
    "handle_inertia = np.array([\n",
    "    3.600E+04, -4.53, 8790.079,\n",
    "    -4.53, 8.056E+04, 9.473,\n",
    "    8790.079, 9.473, 6.076E+04\n",
    "]) * 1e-9 * handle_mass / handle_mass_fusion\n",
    "\n",
    "knife_inertia = np.array([\n",
    "    2.985E+05, 2945.371, -1.216E+06,\n",
    "    2945.371, 7.017E+06, 733.324,\n",
    "    -1.216E+06, 733.324, 6.719E+06\n",
    "]) * 1e-9 * handle_mass / handle_mass_fusion"
   ]
  },
  {
   "cell_type": "code",
   "execution_count": 20,
   "id": "8499b0fa",
   "metadata": {},
   "outputs": [
    {
     "data": {
      "text/plain": [
       "array([[ 1.64160621e-05, -2.06568781e-09,  4.00829118e-06],\n",
       "       [-2.06568781e-09,  3.67354989e-05,  4.31970433e-09],\n",
       "       [ 4.00829118e-06,  4.31970433e-09,  2.77066648e-05]])"
      ]
     },
     "execution_count": 20,
     "metadata": {},
     "output_type": "execute_result"
    }
   ],
   "source": [
    "handle_inertia"
   ]
  },
  {
   "cell_type": "code",
   "execution_count": 21,
   "id": "64ca20e8",
   "metadata": {},
   "outputs": [],
   "source": [
    "fixture_com = handle_mass * handle_com + knife_mass * knife_com\n",
    "fixture_com /= fixture_mass"
   ]
  },
  {
   "cell_type": "code",
   "execution_count": 22,
   "id": "f95e01b9",
   "metadata": {},
   "outputs": [
    {
     "data": {
      "text/plain": [
       "array([ 8.96192826e-02, -6.30081403e-05,  2.74824170e-02])"
      ]
     },
     "execution_count": 22,
     "metadata": {},
     "output_type": "execute_result"
    }
   ],
   "source": [
    "fixture_com"
   ]
  },
  {
   "cell_type": "code",
   "execution_count": 31,
   "id": "6627511a",
   "metadata": {},
   "outputs": [],
   "source": [
    "fixture_inertia = handle_inertia + knife_inertia"
   ]
  },
  {
   "cell_type": "code",
   "execution_count": 24,
   "id": "b8c5e895",
   "metadata": {},
   "outputs": [],
   "source": [
    "# blade center\n",
    "bd = np.array([175.00, 0.0, 50.00]) * 1e-3\n",
    "fixture_tf = np.array([\n",
    "        0.7071,    -0.7071,     0,      0,\n",
    "        0.7071,     0.7071,     0,      0,\n",
    "        0,          0,          1,      0,\n",
    "    bd[0],      bd[1],      bd[2],      1\n",
    "])"
   ]
  },
  {
   "cell_type": "code",
   "execution_count": 32,
   "id": "7d8a9b84",
   "metadata": {},
   "outputs": [],
   "source": [
    "json.dump({\n",
    "    \"mass\": fixture_mass,\n",
    "    \"centerOfMass\": fixture_com.tolist(),\n",
    "    \"transformation\": fixture_tf.tolist(),\n",
    "    \"inertia\": fixture_inertia.tolist(),\n",
    "    \"collisionModel\": {\n",
    "        \"pointA\": [\n",
    "            0,\n",
    "            0.005,\n",
    "            0,\n",
    "            0,\n",
    "            0,\n",
    "            0,\n",
    "            0,\n",
    "            0,\n",
    "            0\n",
    "        ],\n",
    "        \"pointB\": [\n",
    "            0,\n",
    "            -0.005,\n",
    "            0,\n",
    "            0,\n",
    "            0,\n",
    "            0,\n",
    "            0,\n",
    "            0,\n",
    "            0\n",
    "        ],\n",
    "        \"radius\": [\n",
    "            0.005,\n",
    "            0,\n",
    "            0\n",
    "        ]\n",
    "    }\n",
    "}, open(\"knife-endeffector-config.json\", \"w\"), indent=4)"
   ]
  },
  {
   "cell_type": "code",
   "execution_count": null,
   "id": "2f77cfb4",
   "metadata": {},
   "outputs": [],
   "source": []
  }
 ],
 "metadata": {
  "kernelspec": {
   "display_name": "Python 3",
   "language": "python",
   "name": "python3"
  },
  "language_info": {
   "codemirror_mode": {
    "name": "ipython",
    "version": 3
   },
   "file_extension": ".py",
   "mimetype": "text/x-python",
   "name": "python",
   "nbconvert_exporter": "python",
   "pygments_lexer": "ipython3",
   "version": "3.6.9"
  }
 },
 "nbformat": 4,
 "nbformat_minor": 5
}
