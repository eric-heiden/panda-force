{
 "cells": [
  {
   "cell_type": "code",
   "execution_count": 4,
   "id": "a5b6d42d-02b3-4b13-91a1-4843abd7fe76",
   "metadata": {},
   "outputs": [],
   "source": [
    "import json\n",
    "import matplotlib.pyplot as plt\n",
    "import numpy as np\n",
    "import math\n",
    "from IPython.display import set_matplotlib_formats\n",
    "set_matplotlib_formats('retina')"
   ]
  },
  {
   "cell_type": "code",
   "execution_count": 6,
   "id": "546397d0-65ec-44d8-a672-6fe856ba0b92",
   "metadata": {},
   "outputs": [],
   "source": [
    "# measured mass\n",
    "handle_mass = 31.74 * 1e-3\n",
    "knife_mass = 71.45 * 1e-3\n",
    "# mass computed by Fusion 360\n",
    "handle_mass_fusion = 69.605 * 1e-3\n",
    "knife_mass_fusion = 255.096 * 1e-3"
   ]
  },
  {
   "cell_type": "code",
   "execution_count": 12,
   "id": "c31e5936-8a2d-49d5-b158-7c12b9ed28c9",
   "metadata": {},
   "outputs": [],
   "source": [
    "fixture_mass = handle_mass + knife_mass"
   ]
  },
  {
   "cell_type": "code",
   "execution_count": 5,
   "id": "3f0859f0-b04d-49c0-9046-b1df5baa94a4",
   "metadata": {},
   "outputs": [],
   "source": [
    "handle_com = np.array([-3.608E-05, -18.446, -15.173]) * 1e-3\n",
    "knife_com = np.array([-0.078, 121.358, -33.173]) * 1e-3"
   ]
  },
  {
   "cell_type": "code",
   "execution_count": 7,
   "id": "4b23d836-2958-4bb3-b0d9-adefef9233cc",
   "metadata": {},
   "outputs": [],
   "source": [
    "handle_inertia = np.array([\n",
    "    [1.010E+05, -0.038, 8.668E-04],\n",
    "    [-0.038, 3.633E+04, -2.076E+04],\n",
    "    [8.668E-04, -2.076E+04, 8.086E+04]\n",
    "]) * 1e-9 * handle_mass / handle_mass_fusion\n",
    "\n",
    "knife_inertia = np.array([\n",
    "    [6.290E+06, 2414.716, -660.05],\n",
    "    [2414.716, 3.011E+05, 1.126E+06],\n",
    "    [-660.05, 1.126E+06, 5.990E+06]\n",
    "]) * 1e-9 * handle_mass / handle_mass_fusion"
   ]
  },
  {
   "cell_type": "code",
   "execution_count": 8,
   "id": "f2e7f046-c9c8-4aff-93e1-1739883a6cb0",
   "metadata": {},
   "outputs": [
    {
     "data": {
      "text/plain": [
       "array([[ 4.60561741e-05, -1.73280655e-11,  3.95262294e-13],\n",
       "       [-1.73280655e-11,  1.65665426e-05, -9.46659579e-06],\n",
       "       [ 3.95262294e-13, -9.46659579e-06,  3.68722994e-05]])"
      ]
     },
     "execution_count": 8,
     "metadata": {},
     "output_type": "execute_result"
    }
   ],
   "source": [
    "handle_inertia"
   ]
  },
  {
   "cell_type": "code",
   "execution_count": 13,
   "id": "41afef8f-4bdc-4767-893d-7b7236d786d2",
   "metadata": {},
   "outputs": [],
   "source": [
    "fixture_com = handle_mass * handle_com + knife_mass * knife_com\n",
    "fixture_com /= fixture_mass"
   ]
  },
  {
   "cell_type": "code",
   "execution_count": 14,
   "id": "5981455d-e5fb-44e7-904e-c71e92e13d2b",
   "metadata": {},
   "outputs": [
    {
     "data": {
      "text/plain": [
       "array([-5.40192381e-05,  7.83559750e-02, -2.76364170e-02])"
      ]
     },
     "execution_count": 14,
     "metadata": {},
     "output_type": "execute_result"
    }
   ],
   "source": [
    "fixture_com"
   ]
  },
  {
   "cell_type": "code",
   "execution_count": 11,
   "id": "4da072ff-a171-4784-9501-36c58cafef3d",
   "metadata": {},
   "outputs": [],
   "source": [
    "fixture_inertia = handle_inertia + knife_inertia"
   ]
  },
  {
   "cell_type": "code",
   "execution_count": null,
   "id": "9915666f-4bce-4e5b-9258-205465051e04",
   "metadata": {},
   "outputs": [],
   "source": []
  }
 ],
 "metadata": {
  "kernelspec": {
   "display_name": "Python 3",
   "language": "python",
   "name": "python3"
  },
  "language_info": {
   "codemirror_mode": {
    "name": "ipython",
    "version": 3
   },
   "file_extension": ".py",
   "mimetype": "text/x-python",
   "name": "python",
   "nbconvert_exporter": "python",
   "pygments_lexer": "ipython3",
   "version": "3.9.4"
  }
 },
 "nbformat": 4,
 "nbformat_minor": 5
}
