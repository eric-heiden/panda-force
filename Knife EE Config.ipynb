{
 "cells": [
  {
   "cell_type": "code",
   "execution_count": 15,
   "id": "a5b6d42d-02b3-4b13-91a1-4843abd7fe76",
   "metadata": {},
   "outputs": [],
   "source": [
    "import json\n",
    "import matplotlib.pyplot as plt\n",
    "import numpy as np\n",
    "import math\n",
    "from IPython.display import set_matplotlib_formats\n",
    "set_matplotlib_formats('retina')"
   ]
  },
  {
   "cell_type": "code",
   "execution_count": 16,
   "id": "546397d0-65ec-44d8-a672-6fe856ba0b92",
   "metadata": {},
   "outputs": [],
   "source": [
    "# measured mass\n",
    "handle_mass = 31.74 * 1e-3\n",
    "knife_mass = 71.45 * 1e-3\n",
    "# mass computed by Fusion 360\n",
    "handle_mass_fusion = 69.605 * 1e-3\n",
    "knife_mass_fusion = 255.096 * 1e-3"
   ]
  },
  {
   "cell_type": "code",
   "execution_count": 17,
   "id": "c31e5936-8a2d-49d5-b158-7c12b9ed28c9",
   "metadata": {},
   "outputs": [],
   "source": [
    "fixture_mass = handle_mass + knife_mass"
   ]
  },
  {
   "cell_type": "code",
   "execution_count": 18,
   "id": "3f0859f0-b04d-49c0-9046-b1df5baa94a4",
   "metadata": {},
   "outputs": [],
   "source": [
    "handle_com = np.array([-7.182, -0.009, 15.019]) * 1e-3\n",
    "knife_com = np.array([132.621, -0.087, 33.019]) * 1e-3"
   ]
  },
  {
   "cell_type": "code",
   "execution_count": 30,
   "id": "4b23d836-2958-4bb3-b0d9-adefef9233cc",
   "metadata": {},
   "outputs": [],
   "source": [
    "handle_inertia = np.array([\n",
    "    3.600E+04, -4.53, 8790.079,\n",
    "    -4.53, 8.056E+04, 9.473,\n",
    "    8790.079, 9.473, 6.076E+04\n",
    "]) * 1e-9 * handle_mass / handle_mass_fusion\n",
    "\n",
    "knife_inertia = np.array([\n",
    "    2.985E+05, 2945.371, -1.216E+06,\n",
    "    2945.371, 7.017E+06, 733.324,\n",
    "    -1.216E+06, 733.324, 6.719E+06\n",
    "]) * 1e-9 * handle_mass / handle_mass_fusion"
   ]
  },
  {
   "cell_type": "code",
   "execution_count": 20,
   "id": "f2e7f046-c9c8-4aff-93e1-1739883a6cb0",
   "metadata": {},
   "outputs": [
    {
     "data": {
      "text/plain": [
       "array([[ 1.64160621e-05, -2.06568781e-09,  4.00829118e-06],\n",
       "       [-2.06568781e-09,  3.67354989e-05,  4.31970433e-09],\n",
       "       [ 4.00829118e-06,  4.31970433e-09,  2.77066648e-05]])"
      ]
     },
     "execution_count": 20,
     "metadata": {},
     "output_type": "execute_result"
    }
   ],
   "source": [
    "handle_inertia"
   ]
  },
  {
   "cell_type": "code",
   "execution_count": 21,
   "id": "41afef8f-4bdc-4767-893d-7b7236d786d2",
   "metadata": {},
   "outputs": [],
   "source": [
    "fixture_com = handle_mass * handle_com + knife_mass * knife_com\n",
    "fixture_com /= fixture_mass"
   ]
  },
  {
   "cell_type": "code",
   "execution_count": 22,
   "id": "5981455d-e5fb-44e7-904e-c71e92e13d2b",
   "metadata": {},
   "outputs": [
    {
     "data": {
      "text/plain": [
       "array([ 8.96192826e-02, -6.30081403e-05,  2.74824170e-02])"
      ]
     },
     "execution_count": 22,
     "metadata": {},
     "output_type": "execute_result"
    }
   ],
   "source": [
    "fixture_com"
   ]
  },
  {
   "cell_type": "code",
   "execution_count": 31,
   "id": "4da072ff-a171-4784-9501-36c58cafef3d",
   "metadata": {},
   "outputs": [],
   "source": [
    "fixture_inertia = handle_inertia + knife_inertia"
   ]
  },
  {
   "cell_type": "code",
   "execution_count": 24,
   "id": "fcfd91df-9d36-4133-9653-39621c42411a",
   "metadata": {},
   "outputs": [],
   "source": [
    "# blade center\n",
    "bd = np.array([175.00, 0.0, 50.00]) * 1e-3\n",
    "fixture_tf = np.array([\n",
    "        0.7071,    -0.7071,     0,      0,\n",
    "        0.7071,     0.7071,     0,      0,\n",
    "        0,          0,          1,      0,\n",
    "    bd[0],      bd[1],      bd[2],      1\n",
    "])"
   ]
  },
  {
   "cell_type": "code",
   "execution_count": 32,
   "id": "9915666f-4bce-4e5b-9258-205465051e04",
   "metadata": {},
   "outputs": [],
   "source": [
    "json.dump({\n",
    "    \"mass\": fixture_mass,\n",
    "    \"centerOfMass\": fixture_com.tolist(),\n",
    "    \"transformation\": fixture_tf.tolist(),\n",
    "    \"inertia\": fixture_inertia.tolist()\n",
    "}, open(\"knife-endeffector-config.json\", \"w\"), indent=4)"
   ]
  },
  {
   "cell_type": "code",
   "execution_count": null,
   "id": "7d85188b-3a5e-494f-b808-df341c5cf294",
   "metadata": {},
   "outputs": [],
   "source": []
  }
 ],
 "metadata": {
  "kernelspec": {
   "display_name": "Python 3",
   "language": "python",
   "name": "python3"
  },
  "language_info": {
   "codemirror_mode": {
    "name": "ipython",
    "version": 3
   },
   "file_extension": ".py",
   "mimetype": "text/x-python",
   "name": "python",
   "nbconvert_exporter": "python",
   "pygments_lexer": "ipython3",
   "version": "3.9.4"
  }
 },
 "nbformat": 4,
 "nbformat_minor": 5
}
